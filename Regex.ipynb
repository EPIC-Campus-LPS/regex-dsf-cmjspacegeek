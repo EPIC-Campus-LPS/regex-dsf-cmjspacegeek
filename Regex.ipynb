{
 "cells": [
  {
   "cell_type": "code",
   "execution_count": null,
   "metadata": {},
   "outputs": [],
   "source": [
    "import random\n",
    "import csv\n",
    "\n",
    "#opening and setting up files\n",
    "u_usernames=[]\n",
    "f = open(\"email.txt\", \"r\")\n",
    "with open(\"data.csv\", 'w',newline=\"\") as csvfile:\n",
    "    writer = csv.writer(csvfile)\n",
    "    \n",
    "    \n",
    "    #the fuction to find usernames\n",
    "    def username(i):\n",
    "        #lots of spliting, lots and lots of spliting\n",
    "        first_letter = (i[0]).upper()\n",
    "        split = i.split(\"@\")\n",
    "        team = ((split[1].split(\".\"))[0])\n",
    "        last_name = split[0].split(\"_\")\n",
    "        user=(first_letter+last_name[1]+\"-\"+team)\n",
    "        counter=1\n",
    "        #checking if the username is in use\n",
    "        if user not in u_usernames:\n",
    "            u_usernames.append(user)\n",
    "            return user\n",
    "        else:\n",
    "            while True:\n",
    "                user = (first_letter + last_name[1] + str(counter) + \"-\" + team)\n",
    "                counter=counter+1\n",
    "                if user not in u_usernames:\n",
    "                    u_usernames.append(user)\n",
    "                    return user\n",
    "    #Password fuction\n",
    "    def password(i):\n",
    "        #more spilting\n",
    "        first_letter = str((i[0]).upper())\n",
    "        split = i.split(\"@\")\n",
    "        last_name = (split[0].split(\"_\"))[1]\n",
    "        \n",
    "        n=(random.sample(range(0, 9),9))\n",
    "        values = ''.join(str(v) for v in n)\n",
    "        return (first_letter+str(last_name)+values)\n",
    "\n",
    "    for i in f:\n",
    "        usern = username(i)\n",
    "        passw = password(i)\n",
    "        email=(i.rstrip())\n",
    "        print(email+usern+passw)\n",
    "        writer.writerow([email,usern,passw])\n",
    "    quit()"
   ]
  }
 ],
 "metadata": {
  "kernelspec": {
   "display_name": "Python 3",
   "language": "python",
   "name": "python3"
  },
  "language_info": {
   "codemirror_mode": {
    "name": "ipython",
    "version": 3
   },
   "file_extension": ".py",
   "mimetype": "text/x-python",
   "name": "python",
   "nbconvert_exporter": "python",
   "pygments_lexer": "ipython3",
   "version": "3.7.3"
  }
 },
 "nbformat": 4,
 "nbformat_minor": 2
}

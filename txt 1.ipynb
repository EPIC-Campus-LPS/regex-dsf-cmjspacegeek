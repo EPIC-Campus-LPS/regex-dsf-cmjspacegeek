{
 "cells": [
  {
   "cell_type": "code",
   "execution_count": null,
   "metadata": {},
   "outputs": [],
   "source": [
    "#opening the file\n",
    "file = open(\"gun.utf-8\", 'r')\n",
    "\n",
    "#Word counter\n",
    "abc = [0,0,0,0,0,0,0,0,0,0,0,0,0,0,0,0,0,0,0,0,0,0,0,0,0,0,]\n",
    "words = 0\n",
    "\n",
    "#running the loop for each letter\n",
    "for x in file:\n",
    "    test=str(x)\n",
    "    test = test.replace(\" \", \"\")\n",
    "    test = test.replace(\"\\n\", \"\")\n",
    "    x = list(test)\n",
    "    for i in x:\n",
    "        i=i.upper()\n",
    "        num=(ord(i)-65)\n",
    "        if num >= 0 and num < 26:\n",
    "            abc[num] = abc[num] + 1\n",
    "    words=words+len(x)\n",
    "file.close()\n",
    "for i in range(26):\n",
    "    print(str(chr(i+65))+\":\"+str(abc[i])+\" | %\" + str(round((abc[i]/words*100),2)))"
   ]
  }
 ],
 "metadata": {
  "kernelspec": {
   "display_name": "Python 3",
   "language": "python",
   "name": "python3"
  },
  "language_info": {
   "codemirror_mode": {
    "name": "ipython",
    "version": 3
   },
   "file_extension": ".py",
   "mimetype": "text/x-python",
   "name": "python",
   "nbconvert_exporter": "python",
   "pygments_lexer": "ipython3",
   "version": "3.7.3"
  }
 },
 "nbformat": 4,
 "nbformat_minor": 2
}

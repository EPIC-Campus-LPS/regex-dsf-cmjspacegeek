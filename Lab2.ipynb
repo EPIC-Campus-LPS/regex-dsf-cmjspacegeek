{
 "cells": [
  {
   "cell_type": "markdown",
   "id": "6afacb50-381f-4aa8-bf2f-d211c01e216f",
   "metadata": {},
   "source": [
    "#Lab 2 "
   ]
  },
  {
   "cell_type": "markdown",
   "id": "544a81fa-b97a-40e1-8f38-8e65e3a88d2b",
   "metadata": {},
   "source": [
    "# Part 1"
   ]
  },
  {
   "cell_type": "code",
   "execution_count": null,
   "id": "11fd64be-c3f5-4f65-85a8-128160fc71a2",
   "metadata": {},
   "outputs": [],
   "source": [
    "import random\n",
    "import csv\n",
    "\n",
    "#opening and setting up files\n",
    "u_usernames=[]\n",
    "f = open(\"email.txt\", \"r\")\n",
    "with open(\"data.csv\", 'w',newline=\"\") as csvfile:\n",
    "    writer = csv.writer(csvfile)\n",
    "    \n",
    "    \n",
    "    #the fuction to find usernames\n",
    "    def username(i):\n",
    "        #lots of spliting, lots and lots of spliting\n",
    "        first_letter = (i[0]).upper()\n",
    "        split = i.split(\"@\")\n",
    "        team = ((split[1].split(\".\"))[0])\n",
    "        last_name = split[0].split(\"_\")\n",
    "        user=(first_letter+last_name[1]+\"-\"+team)\n",
    "        counter=1\n",
    "        #checking if the username is in use\n",
    "        if user not in u_usernames:\n",
    "            u_usernames.append(user)\n",
    "            return user\n",
    "        else:\n",
    "            while True:\n",
    "                user = (first_letter + last_name[1] + str(counter) + \"-\" + team)\n",
    "                counter=counter+1\n",
    "                if user not in u_usernames:\n",
    "                    u_usernames.append(user)\n",
    "                    return user\n",
    "    #Password fuction\n",
    "    def password(i):\n",
    "        #more spilting\n",
    "        first_letter = str((i[0]).upper())\n",
    "        split = i.split(\"@\")\n",
    "        last_name = (split[0].split(\"_\"))[1]\n",
    "        \n",
    "        n=(random.sample(range(0, 9),9))\n",
    "        values = ''.join(str(v) for v in n)\n",
    "        return (first_letter+str(last_name)+values)\n",
    "\n",
    "    for i in f:\n",
    "        usern = username(i)\n",
    "        passw = password(i)\n",
    "        email=(i.rstrip())\n",
    "        print(email+usern+passw)\n",
    "        writer.writerow([email,usern,passw])\n",
    "    quit()"
   ]
  },
  {
   "cell_type": "markdown",
   "id": "0234b4f8-b982-4dc8-9869-af65fd25dc06",
   "metadata": {},
   "source": [
    "# part 2"
   ]
  },
  {
   "cell_type": "code",
   "execution_count": 2,
   "id": "92b53dab-f6f3-45fa-b838-f1f76555bd21",
   "metadata": {},
   "outputs": [
    {
     "name": "stdout",
     "output_type": "stream",
     "text": [
      "No Bad, here are the bad lines\n",
      "select count(salary) as count fromempsalary where ispermanent='yes' and salary>5000;\n",
      "select * from employee where emaildid like '%@gmail.com';\n",
      "select * fromemployee where department='E-102' or department='E-104';\n",
      "select sum(salary) as salary from empsalary where ispermanent='yes';\n",
      "select deptname from empdept where deptid ='E-102';\n",
      "select count(empid) as employee, projectid from empproject group byprojectid;\n",
      "select count(projectid) as project from empproject where startyear=endyear;\n",
      "select count(projectid) as project from empproject where startyear=2010;\n",
      "\n",
      "8 bad lines\n"
     ]
    }
   ],
   "source": [
    "import re\n",
    "with open(\"1.txt\",\"r\") as file:\n",
    "    text= \"\".join(line.rstrip() for line in file)\n",
    "    x=(re.findall(\"select .+?;\",text))\n",
    "    y=(len(x))\n",
    "    if y == 0:\n",
    "        print(\"All Good\")\n",
    "    else:\n",
    "        print(\"No Bad, here are the bad lines\")\n",
    "        for i in x:\n",
    "            print(i)\n",
    "        print(\"\\n\" + str(y) + \" bad lines\")\n"
   ]
  },
  {
   "cell_type": "code",
   "execution_count": null,
   "id": "8395007d-cb15-4017-b41e-1d87e5581d9e",
   "metadata": {},
   "outputs": [],
   "source": []
  }
 ],
 "metadata": {
  "kernelspec": {
   "display_name": "Python 3 (ipykernel)",
   "language": "python",
   "name": "python3"
  },
  "language_info": {
   "codemirror_mode": {
    "name": "ipython",
    "version": 3
   },
   "file_extension": ".py",
   "mimetype": "text/x-python",
   "name": "python",
   "nbconvert_exporter": "python",
   "pygments_lexer": "ipython3",
   "version": "3.11.5"
  }
 },
 "nbformat": 4,
 "nbformat_minor": 5
}
